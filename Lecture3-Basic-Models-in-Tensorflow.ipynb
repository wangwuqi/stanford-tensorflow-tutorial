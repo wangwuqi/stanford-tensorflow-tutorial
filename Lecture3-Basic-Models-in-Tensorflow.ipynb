{
 "cells": [
  {
   "cell_type": "markdown",
   "metadata": {},
   "source": [
    "# Lecture 3 Basic Models in Tensorflow\n",
    "## Review\n",
    "**TensorFlow separates definition of computations from their execution**  \n",
    "- Phase 1: assemble a graph\n",
    "- Phase 2: use a session to execute operations in the graph.  \n",
    "\n",
    "**tf.constant and tf.Variable**  \n",
    "- Constant values are stored in the graph definition\n",
    "- Sessions allocate memory to store variable values\n",
    "\n",
    "**tf.placeholder and feed_dict**  \n",
    "- Feed values into placeholders with a dictionary (feed_dict)\n",
    "- Easy to use but poor performance\n",
    "\n",
    "**Avoid lazy loading**  \n",
    "- Separate the assembling of graph and executing ops\n",
    "- Use Python attribute to ensure a function is only loaded the first time it’s called"
   ]
  },
  {
   "cell_type": "markdown",
   "metadata": {},
   "source": [
    "## Download from the class’s GitHub\n",
    "\n",
    "https://github.com/chiphuyen/stanford-tensorflow-tutorials/blob/master/examples/03_linreg_starter.py\n",
    "\n",
    "https://github.com/chiphuyen/stanford-tensorflow-tutorials/blob/master/examples/03_logreg_starter.py\n",
    "\n",
    "https://github.com/chiphuyen/stanford-tensorflow-tutorials/blob/master/examples/utils.py\n",
    "\n",
    "https://github.com/chiphuyen/stanford-tensorflow-tutorials/blob/master/examples/data/birth_life_2010.txt"
   ]
  },
  {
   "cell_type": "markdown",
   "metadata": {},
   "source": [
    "## Linear Regression in TensorFlow"
   ]
  },
  {
   "cell_type": "markdown",
   "metadata": {},
   "source": [
    "[google public data](https://www.google.com/publicdata/explore?ds=d5bncppjof8f9_&ctype=b&strail=false&nselm=s&met_x=sp_dyn_le00_in&scale_x=lin&ind_x=false&met_y=sp_dyn_tfrt_in&scale_y=lin&ind_y=false&met_s=sp_pop_totl&scale_s=lin&ind_s=false&dimp_c=country:region&ifdim=country&iconSize=0.5&uniSize=0.035#!ctype=b&strail=false&bcs=d&nselm=s&met_x=sp_dyn_le00_in&scale_x=lin&ind_x=false&met_y=sp_dyn_tfrt_in&scale_y=lin&ind_y=false&met_s=sp_pop_totl&scale_s=lin&ind_s=false&dimp_c=country:region&idim=country:CHN&ifdim=country&pit=-128419200000&hl=zh_CN&dl=zh_CN&ind=false)\n",
    "<img src='picture/birth_life.gif'>"
   ]
  },
  {
   "cell_type": "markdown",
   "metadata": {},
   "source": [
    "**World Development Indicators dataset**  \n",
    "- X: birth rate  \n",
    "- Y: life expectancy  \n",
    "- 190 countries  \n",
    "\n",
    "**Goal:**\n",
    "- Find a linear relationship between X and Y to predict Y from X\n",
    "\n",
    "**Model:**  \n",
    "- Inference: $Y\\_predicted = w*X + b$  \n",
    "- Mean squared error: $E[(y - y\\_predicted)^2]$"
   ]
  },
  {
   "cell_type": "markdown",
   "metadata": {},
   "source": [
    "## 3.1 simple linear regression example using placeholders"
   ]
  },
  {
   "cell_type": "code",
   "execution_count": 1,
   "metadata": {},
   "outputs": [],
   "source": [
    "\"\"\" Starter code for simple linear regression example using placeholders\n",
    "Created by Chip Huyen (huyenn@cs.stanford.edu)\n",
    "CS20: \"TensorFlow for Deep Learning Research\"\n",
    "cs20.stanford.edu\n",
    "Lecture 03\n",
    "\"\"\"\n",
    "import os\n",
    "import time\n",
    "\n",
    "import numpy as np\n",
    "import matplotlib.pyplot as plt\n",
    "import tensorflow as tf\n",
    "\n",
    "import utils\n",
    "\n",
    "DATA_FILE = 'data/birth_life_2010.txt'\n",
    "\n",
    "# Step 1: read in data from the .txt file\n",
    "data, n_samples = utils.read_birth_life_data(DATA_FILE)"
   ]
  },
  {
   "cell_type": "code",
   "execution_count": 2,
   "metadata": {},
   "outputs": [
    {
     "data": {
      "text/plain": [
       "<matplotlib.collections.PathCollection at 0x219ecb6b1d0>"
      ]
     },
     "execution_count": 2,
     "metadata": {},
     "output_type": "execute_result"
    },
    {
     "data": {
      "image/png": "[encoded data removed]",
      "text/plain": [
       "<Figure size 432x288 with 1 Axes>"
      ]
     },
     "metadata": {
      "needs_background": "light"
     },
     "output_type": "display_data"
    }
   ],
   "source": [
    "plt.scatter(data[:,0],data[:,1])"
   ]
  },
  {
   "cell_type": "code",
   "execution_count": 3,
   "metadata": {},
   "outputs": [],
   "source": [
    "X = tf.placeholder(tf.float32, name='X')\n",
    "Y = tf.placeholder(tf.float32, name='Y')\n",
    "\n",
    "w = tf.get_variable('weights', initializer=tf.constant(0.0))\n",
    "b = tf.get_variable('bias', initializer=tf.constant(0.0))\n",
    "\n",
    "Y_predicted = w*X+b\n",
    "\n",
    "loss=tf.square(Y_predicted-Y, name='loss')\n",
    "optimizer = tf.train.GradientDescentOptimizer(learning_rate=0.001).minimize(loss)"
   ]
  },
  {
   "cell_type": "code",
   "execution_count": 4,
   "metadata": {
    "scrolled": false
   },
   "outputs": [
    {
     "name": "stdout",
     "output_type": "stream",
     "text": [
      "Epoch 20 : 130.935035\n",
      "Epoch 40 : 38.297009\n",
      "Epoch 60 : 30.601229\n",
      "Epoch 80 : 30.048283\n",
      "Epoch 100: 30.035526\n",
      "Took: 12.273034 seconds\n"
     ]
    }
   ],
   "source": [
    "start = time.time()\n",
    "writer = tf.summary.FileWriter('./graphs/linear_reg', tf.get_default_graph())\n",
    "with tf.Session() as sess:\n",
    "    sess.run(tf.global_variables_initializer())\n",
    "    for i in range(100):\n",
    "        total_loss = 0\n",
    "        for x, y in data:\n",
    "            _, l = sess.run([optimizer,loss], feed_dict={X:x, Y:y})\n",
    "            total_loss += l\n",
    "        \n",
    "        if (i+1)%20==0:\n",
    "            print('Epoch {:<3d}: {:6f}'.format(i+1, total_loss/n_samples))\n",
    "    w_out, b_out = sess.run([w, b])\n",
    "writer.close() \n",
    "print('Took: %f seconds' %(time.time() - start))\n",
    "# plt.figure(figsize=(16,8))\n",
    "# plt.plot(data[:,0], data[:,1], 'bo', label='Real data')\n",
    "# plt.plot(data[:,0], data[:,0] * w_out + b_out, 'r', label='Predicted data')\n",
    "# plt.legend()\n",
    "# plt.show()\n",
    "\n",
    "# use 'Crtl + /' to comment or uncomment mutiple lines of code"
   ]
  },
  {
   "cell_type": "markdown",
   "metadata": {},
   "source": [
    "<img src='picture/linreg_placeholder/annimation.gif'>"
   ]
  },
  {
   "cell_type": "markdown",
   "metadata": {},
   "source": [
    "<img src='picture/linear_graph.png'>"
   ]
  },
  {
   "cell_type": "markdown",
   "metadata": {},
   "source": [
    "---\n",
    "**save plot figure after each epoch for gif generation**  \n",
    "```python\n",
    "start = time.time()\n",
    "writer = tf.summary.FileWriter('./graphs/linear_reg', tf.get_default_graph())\n",
    "with tf.Session() as sess:\n",
    "    sess.run(tf.global_variables_initializer())\n",
    "    for i in range(100):\n",
    "        total_loss = 0\n",
    "        for x, y in data:\n",
    "            _, l = sess.run([optimizer,loss], feed_dict={X:x, Y:y})\n",
    "            total_loss += l\n",
    "            \n",
    "        w_out, b_out = sess.run([w, b])\n",
    "        plt.figure(figsize=(16,8))\n",
    "        plt.plot(data[:,0], data[:,1], 'bo', label='Real data')\n",
    "        plt.plot(data[:,0], data[:,0] * w_out + b_out, 'r', label='Predicted data')\n",
    "        plt.ylim((45, 85))\n",
    "        plt.legend()\n",
    "        plt.title('epoch: '+str(i))\n",
    "        plt.savefig('.\\\\picture\\\\linreg_placeholder\\\\epoch-'+str(i)+'.png', bbox_inches = 'tight')\n",
    "        \n",
    "        if (i+1)%20==0:\n",
    "            print('Epoch {:<3d}: {:6f}'.format(i+1, total_loss/n_samples))\n",
    "    \n",
    "writer.close() \n",
    "print('Took: %f seconds' %(time.time() - start))\n",
    "```\n",
    "---"
   ]
  },
  {
   "cell_type": "markdown",
   "metadata": {},
   "source": [
    "## 3.2 simple linear regression example using tf.data.Dataset"
   ]
  },
  {
   "cell_type": "code",
   "execution_count": 5,
   "metadata": {},
   "outputs": [
    {
     "name": "stdout",
     "output_type": "stream",
     "text": [
      "Epoch 20: 130.93503488078713\n",
      "Epoch 40: 38.297008645340895\n",
      "Epoch 60: 30.60122861903357\n",
      "Epoch 80: 30.04828310612785\n",
      "Epoch 100: 30.03552558278714\n",
      "w: -6.070214, b: 84.929512\n",
      "Took: 8.626571 seconds\n"
     ]
    },
    {
     "data": {
      "image/png": "[encoded data removed]",
      "text/plain": [
       "<Figure size 432x288 with 1 Axes>"
      ]
     },
     "metadata": {
      "needs_background": "light"
     },
     "output_type": "display_data"
    }
   ],
   "source": [
    "import os\n",
    "import time\n",
    "\n",
    "import numpy as np\n",
    "import matplotlib.pyplot as plt\n",
    "import tensorflow as tf\n",
    "\n",
    "import utils\n",
    "\n",
    "tf.reset_default_graph()\n",
    "\n",
    "DATA_FILE = 'data/birth_life_2010.txt'\n",
    "\n",
    "# Step 1: read in the data\n",
    "data, n_samples = utils.read_birth_life_data(DATA_FILE)\n",
    "\n",
    "# Step 2: create Dataset and iterator\n",
    "dataset = tf.data.Dataset.from_tensor_slices((data[:,0], data[:,1]))\n",
    "\n",
    "iterator = dataset.make_initializable_iterator()\n",
    "X, Y = iterator.get_next()\n",
    "\n",
    "# Step 3: create weight and bias, initialized to 0\n",
    "w = tf.get_variable('weights', initializer=tf.constant(0.0))\n",
    "b = tf.get_variable('bias', initializer=tf.constant(0.0))\n",
    "\n",
    "# Step 4: build model to predict Y\n",
    "Y_predicted = X * w + b\n",
    "\n",
    "# Step 5: use the square error as the loss function\n",
    "loss = tf.square(Y - Y_predicted, name='loss')\n",
    "# loss = utils.huber_loss(Y, Y_predicted)\n",
    "\n",
    "# Step 6: using gradient descent with learning rate of 0.001 to minimize loss\n",
    "optimizer = tf.train.GradientDescentOptimizer(learning_rate=0.001).minimize(loss)\n",
    "\n",
    "start = time.time()\n",
    "with tf.Session() as sess:\n",
    "    # Step 7: initialize the necessary variables, in this case, w and b\n",
    "    sess.run(tf.global_variables_initializer()) \n",
    "    writer = tf.summary.FileWriter('./graphs/linear_reg_withdataset', sess.graph)\n",
    "    \n",
    "    # Step 8: train the model for 100 epochs\n",
    "    for i in range(100):\n",
    "        sess.run(iterator.initializer) # initialize the iterator\n",
    "        total_loss = 0\n",
    "        try:\n",
    "            while True:\n",
    "                _, l = sess.run([optimizer, loss]) \n",
    "                total_loss += l\n",
    "        except tf.errors.OutOfRangeError:\n",
    "            pass\n",
    "        if (i+1)%20==0:\n",
    "            print('Epoch {0}: {1}'.format(i+1, total_loss/n_samples))\n",
    "\n",
    "    # close the writer when you're done using it\n",
    "    writer.close() \n",
    "    \n",
    "    # Step 9: output the values of w and b\n",
    "    w_out, b_out = sess.run([w, b]) \n",
    "    print('w: %f, b: %f' %(w_out, b_out))\n",
    "print('Took: %f seconds' %(time.time() - start))\n",
    "\n",
    "# plot the results\n",
    "plt.plot(data[:,0], data[:,1], 'bo', label='Real data')\n",
    "plt.plot(data[:,0], data[:,0] * w_out + b_out, 'r', label='Predicted data with squared error')\n",
    "# plt.plot(data[:,0], data[:,0] * (-5.883589) + 85.124306, 'g', label='Predicted data with Huber loss')\n",
    "plt.legend()\n",
    "plt.show()"
   ]
  },
  {
   "cell_type": "markdown",
   "metadata": {},
   "source": [
    "## Huber loss\n",
    "- Robust to outliers\n",
    "- If the difference between the predicted value and the real value is small, square it\n",
    "- If it’s large, take its absolute value  \n",
    "$L_\\delta(y,f(x))=\\begin{cases}\n",
    "\\frac{1}{2}(y-f(x)), & for \\left|y-f(x)\\right|\\leq\\delta,  \\\\\n",
    "\\delta\\left|y-f(x)\\right|-\\frac{1}{2}\\delta^2, & otherwise.\n",
    "\\end{cases}$  \n"
   ]
  },
  {
   "cell_type": "markdown",
   "metadata": {},
   "source": [
    "**Implementing Huber loss**  \n",
    "**Can’t write ( You can write it if eager mode were enabled. ):**  \n",
    "```python\n",
    "if y - y_predicted < delta:\n",
    "```\n",
    "**use:**\n",
    "```python\n",
    "tf.cond(pred, fn1, fn2, name=None)\n",
    "\n",
    "def huber_loss(labels, predictions, delta=14.0):\n",
    "    residual = tf.abs(labels - predictions)\n",
    "    def f1(): return 0.5 * tf.square(residual)\n",
    "    def f2(): return delta * residual - 0.5 * tf.square(delta)\n",
    "    return tf.cond(residual < delta, f1, f2)\n",
    "```  \n",
    "\n",
    "**TF Control Flow**\n",
    "```python\n",
    "Control Flow Ops  tf.group, tf.count_up_to, tf.cond, tf.case, tf.while_loop, ...\n",
    "Comparison Ops    tf.equal, tf.not_equal, tf.less, tf.greater, tf.where, ...     \n",
    "Logical Ops       tf.logical_and, tf.logical_not, tf.logical_or, tf.logical_xor  \n",
    "Debugging Ops     tf.is_finite, tf.is_inf, tf.is_nan, tf.Assert, tf.Print, ...   \n",
    "```  \n",
    "Since TF builds graph before computation, we haveto specify all possible subgraphs beforehand.  \n",
    "PyTorch’s dynamic graphs and TF’s eager executionhelp overcome this"
   ]
  },
  {
   "cell_type": "markdown",
   "metadata": {},
   "source": [
    "## tf.data\n",
    "Instead of doing inference with placeholders and feeding in data later, do inference directly with data\n",
    "```python\n",
    "tf.data.Dataset\n",
    "tf.data.Iterator\n",
    "```\n",
    "**Store data in tf.data.Dataset**  \n",
    "```python\n",
    "tf.data.Dataset.from_tensor_slices((features, labels))\n",
    "dataset = tf.data.Dataset.from_tensor_slices((data[:,0], data[:,1]))\n",
    "\n",
    "tf.data.Dataset.from_generator(gen, output_types, output_shapes)\n",
    "\n",
    "tf.data.TextLineDataset(filenames)\n",
    "tf.data.FixedLengthRecordDataset(filenames)\n",
    "tf.data.TFRecordDataset(filenames)\n",
    "```\n",
    "## tf.data.Iterator\n",
    "Create an iterator to iterate through samples in Dataset  \n",
    "\n",
    "**Iterates through the dataset exactly once. No need to initialization.**  \n",
    "```python\n",
    "iterator = dataset.make_one_shot_iterator()  \n",
    "```\n",
    "       \n",
    "**Iterates through the dataset as many times as we want. Need to initialize with each epoch.**\n",
    "```python\n",
    "iterator = dataset.make_initializable_iterator()  \n",
    "```\n",
    "\n",
    "**example1:**\n",
    "```python\n",
    "iterator = dataset.make_one_shot_iterator()\n",
    "X, Y = iterator.get_next() # X is the birth rate, Y is the life expectancy\n",
    "with tf.Session() as sess:\n",
    "    print(sess.run([X, Y])) # >> [1.822, 74.82825]\n",
    "    print(sess.run([X, Y])) # >> [3.869, 70.81949]\n",
    "    print(sess.run([X, Y])) # >> [3.911, 72.15066]\n",
    "```\n",
    "\n",
    "**example2:**\n",
    "```python\n",
    "iterator = dataset.make_initializable_iterator()\n",
    "...\n",
    "for i in range(100):\n",
    "    sess.run(iterator.initializer)\n",
    "    total_loss = 0\n",
    "    try:\n",
    "        while True:\n",
    "            sess.run([optimizer])\n",
    "    except tf.errors.OutOfRangeError:\n",
    "        pass\n",
    "```\n",
    "\n",
    "### Handling data in TensorFlow\n",
    "```python\n",
    "dataset = dataset.shuffle(1000)\n",
    "dataset = dataset.repeat(100)\n",
    "dataset = dataset.batch(128)\n",
    "dataset = dataset.map(lambda x: tf.one_hot(x, 10))\n",
    "# convert each elem of dataset to one_hot vector\n",
    "```\n",
    "\n",
    "### Does tf.data really perform better?\n",
    "With placeholder: 9.05271519 seconds  \n",
    "With tf.data: 6.12285947 seconds\n",
    "\n",
    "### Should we always use tf.data?\n",
    "- For prototyping, feed dict can be faster and easier to write (pythonic)\n",
    "- tf.data is tricky to use when you have complicated preprocessing or multiple data sources\n",
    "- NLP data is normally just a sequence of integers. In this case, transferring the data over to GPU is pretty quick, so the speedup of tf.data isn't that large"
   ]
  },
  {
   "cell_type": "markdown",
   "metadata": {},
   "source": [
    "## Optimizers\n",
    "```python\n",
    "optimizer = tf.train.GradientDescentOptimizer(learning_rate=0.001).minimize(loss)\n",
    "_, l = sess.run([optimizer, loss], feed_dict={X: x, Y:y})\n",
    "```\n",
    "Session looks at all **trainable** variables that loss depends on and update them.(**weights** and **bias** below)\n",
    "<img src='picture/optimizer.jpg' width='50%'>\n",
    "### Trainable variables\n",
    "tf.Variable(initial_value=None, **trainable**=True,...)  \n",
    "Specify if a variable should be trained or not. By default, all variables are trainable\n",
    "### List of optimizers in TF\n",
    "```python\n",
    "tf.train.GradientDescentOptimizer\n",
    "tf.train.AdagradOptimizer\n",
    "tf.train.MomentumOptimizer\n",
    "tf.train.AdamOptimizer\n",
    "tf.train.FtrlOptimizer\n",
    "tf.train.RMSPropOptimizer\n",
    "...\n",
    "```\n",
    "“Advanced” optimizers work better when tuned, but are generally harder to tune."
   ]
  },
  {
   "cell_type": "markdown",
   "metadata": {},
   "source": [
    "## Logistic Regression in TensorFlow\n",
    "### MNIST Database\n",
    "Each image is a 28x28 array, flattened out to be a 1-d tensor of size 784  \n",
    "<img src='picture/minist.jpg'>\n",
    "\n",
    "X: image of a handwritten digit  \n",
    "Y: the digit value  \n",
    "Recognize the digit in the image  \n",
    "\n",
    "**Model:**  \n",
    "Inference: $Y\\_predicted = softmax(X * w + b)$  \n",
    "Cross entropy loss: $-log(Y\\_predicted)$"
   ]
  }
 ],
 "metadata": {
  "kernelspec": {
   "display_name": "Python 3",
   "language": "python",
   "name": "python3"
  },
  "language_info": {
   "codemirror_mode": {
    "name": "ipython",
    "version": 3
   },
   "file_extension": ".py",
   "mimetype": "text/x-python",
   "name": "python",
   "nbconvert_exporter": "python",
   "pygments_lexer": "ipython3",
   "version": "3.6.5"
  }
 },
 "nbformat": 4,
 "nbformat_minor": 2
}
