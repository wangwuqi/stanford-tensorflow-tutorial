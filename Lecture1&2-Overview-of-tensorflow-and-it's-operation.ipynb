{
 "cells": [
  {
   "cell_type": "markdown",
   "metadata": {},
   "source": [
    "# Stanford University: Tensorflow for Deep Learning Research\n",
    "## Syllabus and Lecture Notes [http://web.stanford.edu/class/cs20si/syllabus.html](http://web.stanford.edu/class/cs20si/syllabus.html)  \n",
    "## Code Examples https://github.com/chiphuyen/stanford-tensorflow-tutorials"
   ]
  },
  {
   "cell_type": "markdown",
   "metadata": {},
   "source": [
    "# Lecture 1 Graphs and Sessions"
   ]
  },
  {
   "cell_type": "code",
   "execution_count": 1,
   "metadata": {},
   "outputs": [],
   "source": [
    "import tensorflow as tf"
   ]
  },
  {
   "cell_type": "markdown",
   "metadata": {},
   "source": [
    "<img src=\"picture/add.jpg\" width=\"30%\">"
   ]
  },
  {
   "cell_type": "code",
   "execution_count": 2,
   "metadata": {},
   "outputs": [],
   "source": [
    "a = tf.add(3,5)"
   ]
  },
  {
   "cell_type": "code",
   "execution_count": 3,
   "metadata": {},
   "outputs": [
    {
     "data": {
      "text/plain": [
       "<tf.Tensor 'Add:0' shape=() dtype=int32>"
      ]
     },
     "execution_count": 3,
     "metadata": {},
     "output_type": "execute_result"
    }
   ],
   "source": [
    "a"
   ]
  },
  {
   "cell_type": "code",
   "execution_count": 4,
   "metadata": {
    "scrolled": true
   },
   "outputs": [
    {
     "name": "stdout",
     "output_type": "stream",
     "text": [
      "8\n",
      "8\n"
     ]
    }
   ],
   "source": [
    "a=tf.add(3,5)\n",
    "\n",
    "sess = tf.Session()\n",
    "print(sess.run(a))\n",
    "sess.close()\n",
    "\n",
    "with tf.Session() as sess:\n",
    "    print(sess.run(a))"
   ]
  },
  {
   "cell_type": "markdown",
   "metadata": {},
   "source": [
    "<img src=\"picture/graph1.jpg\" width=\"50%\">"
   ]
  },
  {
   "cell_type": "code",
   "execution_count": 5,
   "metadata": {},
   "outputs": [
    {
     "name": "stdout",
     "output_type": "stream",
     "text": [
      "7776\n"
     ]
    }
   ],
   "source": [
    "x = 2\n",
    "y = 3\n",
    "op1 = tf.add(x,y)\n",
    "op2 = tf.multiply(x,y)\n",
    "op3 = tf.pow(op2,op1)\n",
    "with tf.Session() as sess:\n",
    "    op3 = sess.run(op3)\n",
    "    print(op3)"
   ]
  },
  {
   "cell_type": "markdown",
   "metadata": {},
   "source": [
    "<img src=\"picture/graph2.jpg\" width=\"50%\">"
   ]
  },
  {
   "cell_type": "code",
   "execution_count": 6,
   "metadata": {},
   "outputs": [
    {
     "name": "stdout",
     "output_type": "stream",
     "text": [
      "15625\n"
     ]
    }
   ],
   "source": [
    "x = 2\n",
    "y = 3\n",
    "add_op = tf.add(x, y)\n",
    "mul_op = tf.multiply(x, y)\n",
    "useless = tf.multiply(x, add_op)\n",
    "pow_op = tf.pow(add_op, mul_op)\n",
    "with tf.Session() as sess:\n",
    "    z = sess.run(pow_op)\n",
    "    print(z)"
   ]
  },
  {
   "cell_type": "code",
   "execution_count": 7,
   "metadata": {},
   "outputs": [
    {
     "name": "stdout",
     "output_type": "stream",
     "text": [
      "15625 10\n"
     ]
    }
   ],
   "source": [
    "x = 2\n",
    "y = 3\n",
    "add_op = tf.add(x, y)\n",
    "mul_op = tf.multiply(x, y)\n",
    "useless = tf.multiply(x, add_op)\n",
    "pow_op = tf.pow(add_op, mul_op)\n",
    "with tf.Session() as sess:\n",
    "    z, not_useless = sess.run([pow_op, useless])\n",
    "    print(z, not_useless)\n",
    "# tf.Session.run(fetches,feed_dict=None,options=None,run_metadata=None)\n",
    "# fetches is a list of tensors whose values you want"
   ]
  },
  {
   "cell_type": "code",
   "execution_count": 8,
   "metadata": {},
   "outputs": [
    {
     "name": "stdout",
     "output_type": "stream",
     "text": [
      "[name: \"/device:CPU:0\"\n",
      "device_type: \"CPU\"\n",
      "memory_limit: 268435456\n",
      "locality {\n",
      "}\n",
      "incarnation: 14562712191971591582\n",
      ", name: \"/device:GPU:0\"\n",
      "device_type: \"GPU\"\n",
      "memory_limit: 6708889518\n",
      "locality {\n",
      "  bus_id: 1\n",
      "  links {\n",
      "  }\n",
      "}\n",
      "incarnation: 3363042787291213470\n",
      "physical_device_desc: \"device: 0, name: Quadro P4000, pci bus id: 0000:01:00.0, compute capability: 6.1\"\n",
      "]\n"
     ]
    }
   ],
   "source": [
    "import os\n",
    "from tensorflow.python.client import device_lib\n",
    "os.environ[\"TF_CPP_MIN_LOG_LEVEL\"] = \"99\"\n",
    " \n",
    "if __name__ == \"__main__\":\n",
    "    print(device_lib.list_local_devices())"
   ]
  },
  {
   "cell_type": "code",
   "execution_count": 9,
   "metadata": {},
   "outputs": [
    {
     "name": "stdout",
     "output_type": "stream",
     "text": [
      "[[ 1.  4.  9.]\n",
      " [16. 25. 36.]]\n"
     ]
    }
   ],
   "source": [
    "with tf.device('/device:GPU:0'):\n",
    "    a = tf.constant([1.0, 2.0, 3.0, 4.0, 5.0, 6.0], shape=[2, 3], name='a')\n",
    "    b = tf.constant([1.0, 2.0, 3.0, 4.0, 5.0, 6.0], shape=[2, 3], name='b')\n",
    "    c = tf.multiply(a,b)\n",
    "    sess = tf.Session(config=tf.ConfigProto(log_device_placement=True))\n",
    "    print(sess.run(c))"
   ]
  },
  {
   "cell_type": "code",
   "execution_count": 10,
   "metadata": {},
   "outputs": [
    {
     "name": "stdout",
     "output_type": "stream",
     "text": [
      "[[22. 28.]\n",
      " [49. 64.]]\n"
     ]
    }
   ],
   "source": [
    "# Creates a graph.\n",
    "a = tf.constant([1.0, 2.0, 3.0, 4.0, 5.0, 6.0], shape=[2, 3], name='a')\n",
    "b = tf.constant([1.0, 2.0, 3.0, 4.0, 5.0, 6.0], shape=[3, 2], name='b')\n",
    "c = tf.matmul(a, b)\n",
    "# Creates a session with log_device_placement set to True.\n",
    "sess = tf.Session(config=tf.ConfigProto(allow_soft_placement=True, log_device_placement=True))\n",
    "# Runs the op.\n",
    "print(sess.run(c))\n",
    "sess.close()"
   ]
  },
  {
   "cell_type": "code",
   "execution_count": 11,
   "metadata": {},
   "outputs": [
    {
     "name": "stdout",
     "output_type": "stream",
     "text": [
      "[[ 44.  56.]\n",
      " [ 98. 128.]]\n"
     ]
    }
   ],
   "source": [
    "# Creates a graph.\n",
    "c = []\n",
    "for d in ['/device:GPU:0', '/device:CPU:0']:\n",
    "    with tf.device(d):\n",
    "        a = tf.constant([1.0, 2.0, 3.0, 4.0, 5.0, 6.0], shape=[2, 3])\n",
    "        b = tf.constant([1.0, 2.0, 3.0, 4.0, 5.0, 6.0], shape=[3, 2])\n",
    "        c.append(tf.matmul(a, b))\n",
    "with tf.device('/cpu:0'):\n",
    "    sum = tf.add_n(c)\n",
    "# Creates a session with log_device_placement set to True.\n",
    "sess = tf.Session(config=tf.ConfigProto(log_device_placement=True))\n",
    "# Runs the op.\n",
    "print(sess.run(sum))\n",
    "sess.close()"
   ]
  },
  {
   "cell_type": "markdown",
   "metadata": {},
   "source": [
    "---"
   ]
  },
  {
   "cell_type": "markdown",
   "metadata": {},
   "source": [
    "# Lecture 2 TensorFlow Ops"
   ]
  },
  {
   "cell_type": "code",
   "execution_count": 12,
   "metadata": {},
   "outputs": [
    {
     "name": "stdout",
     "output_type": "stream",
     "text": [
      "5\n"
     ]
    }
   ],
   "source": [
    "import tensorflow as tf\n",
    "\n",
    "# tf.summary.FileWriter会把当前环境所有的变量和图都画出来, 因此在定义变量之前先把graph reset\n",
    "tf.reset_default_graph()\n",
    "\n",
    "a=tf.constant(2)\n",
    "b=tf.constant(3)\n",
    "x=tf.add(a,b)\n",
    "writer=tf.summary.FileWriter('./graphs',tf.get_default_graph()) #生成的events文件存放在graphs文件夹\n",
    "with tf.Session() as sess:\n",
    "    print(sess.run(x))\n",
    "writer.close() # close the writer when you're done using it"
   ]
  },
  {
   "cell_type": "markdown",
   "metadata": {},
   "source": [
    "**tensorbord visualization**  \n",
    "1. open **cmd**\n",
    "2. tensorboard --logdir=D:\\Ubuntu\\UbuntuShare\\Jupyter_Notebooks\\Stanford_CS20SI--TensorFlow-for-Deep-Learning-Research\\graphs\n",
    "3. open **[http://localhost:6006](http://localhost:6006)** in your browser"
   ]
  },
  {
   "cell_type": "code",
   "execution_count": 13,
   "metadata": {},
   "outputs": [
    {
     "name": "stdout",
     "output_type": "stream",
     "text": [
      "5\n"
     ]
    }
   ],
   "source": [
    "import tensorflow as tf\n",
    "\n",
    "# tf.summary.FileWriter会把当前环境所有的变量和图都画出来\n",
    "tf.reset_default_graph()\n",
    "\n",
    "a = tf.constant(2, name='a')\n",
    "b = tf.constant(3, name='b')\n",
    "x = tf.add(a, b, name='add')\n",
    "\n",
    "with tf.Session() as sess:\n",
    "    tf.summary.FileWriter('./graphs', sess.graph)\n",
    "    print(sess.run(x)) # >> 5"
   ]
  },
  {
   "cell_type": "markdown",
   "metadata": {},
   "source": [
    "## 矩阵对应元素相乘 tf.multiply，维度不一致时进行广播"
   ]
  },
  {
   "cell_type": "code",
   "execution_count": 14,
   "metadata": {},
   "outputs": [
    {
     "name": "stdout",
     "output_type": "stream",
     "text": [
      "[[0 2]\n",
      " [4 6]]\n",
      "[[0 2]\n",
      " [4 6]]\n"
     ]
    }
   ],
   "source": [
    "import tensorflow as tf\n",
    "\n",
    "# tf.constant(value, dtype=None, shape=None, name='Const', verify_shape=False)\n",
    "# Broadcasting similar to NumPy\n",
    "a = tf.constant([2, 2], name='a')\n",
    "b = tf.constant([[0, 1], [2, 3]], name='b')\n",
    "x1 = tf.multiply(a, b, name='mul1')\n",
    "x2 = tf.multiply(b, a, name='mul2')\n",
    "with tf.Session() as sess:\n",
    "    print(sess.run(x1))\n",
    "    print(sess.run(x2))"
   ]
  },
  {
   "cell_type": "markdown",
   "metadata": {},
   "source": [
    "## 矩阵点乘 tf.matmul"
   ]
  },
  {
   "cell_type": "code",
   "execution_count": 15,
   "metadata": {},
   "outputs": [
    {
     "name": "stdout",
     "output_type": "stream",
     "text": [
      "[[ 58  64]\n",
      " [139 154]]\n"
     ]
    }
   ],
   "source": [
    "a = tf.constant([1, 2, 3, 4, 5, 6], shape=[2, 3])\n",
    "b = tf.constant([7, 8, 9, 10, 11, 12], shape=[3, 2])\n",
    "c = tf.matmul(a, b)\n",
    "with tf.Session() as sess:\n",
    "    print(sess.run(c))"
   ]
  },
  {
   "cell_type": "code",
   "execution_count": 16,
   "metadata": {},
   "outputs": [
    {
     "name": "stdout",
     "output_type": "stream",
     "text": [
      "[[[ 94 100]\n",
      "  [229 244]]\n",
      "\n",
      " [[508 532]\n",
      "  [697 730]]]\n"
     ]
    }
   ],
   "source": [
    "import numpy as np\n",
    "a = tf.constant(np.arange(1, 13, dtype=np.int32), shape=[2, 2, 3])\n",
    "b = tf.constant(np.arange(13, 25, dtype=np.int32), shape=[2, 3, 2])\n",
    "c = tf.matmul(a, b)\n",
    "with tf.Session() as sess:\n",
    "    print(sess.run(c))"
   ]
  },
  {
   "cell_type": "markdown",
   "metadata": {},
   "source": [
    "## Constants"
   ]
  },
  {
   "cell_type": "code",
   "execution_count": 17,
   "metadata": {},
   "outputs": [
    {
     "name": "stdout",
     "output_type": "stream",
     "text": [
      "[[0 0 0]\n",
      " [0 0 0]]\n"
     ]
    }
   ],
   "source": [
    "# tf.zeros(shape, dtype=tf.float32, name=None)\n",
    "# creates a tensor of shape and all elements will be zeros\n",
    "# Similar to numpy.zeros\n",
    "zeros = tf.zeros([2, 3], tf.int32)\n",
    "with tf.Session() as sess:\n",
    "    print(sess.run(tf.zeros_like(zeros)))"
   ]
  },
  {
   "cell_type": "code",
   "execution_count": 18,
   "metadata": {},
   "outputs": [
    {
     "name": "stdout",
     "output_type": "stream",
     "text": [
      "[[0 0]\n",
      " [0 0]\n",
      " [0 0]]\n"
     ]
    }
   ],
   "source": [
    "# tf.zeros_like(input_tensor, dtype=None, name=None, optimize=True)\n",
    "# creates a tensor of shape and type (unless type is specified) as the input_tensor but all elements are zeros.\n",
    "# Similar to numpy.zeros_like\n",
    "input_tensor=[[0, 1], [2, 3], [4, 5]]\n",
    "with tf.Session() as sess:\n",
    "    print(sess.run(tf.zeros_like(input_tensor)))"
   ]
  },
  {
   "cell_type": "code",
   "execution_count": 19,
   "metadata": {},
   "outputs": [],
   "source": [
    "# Similar to numpy.ones, numpy.ones_like\n",
    "# tf.ones(shape, dtype=tf.float32, name=None)\n",
    "# tf.ones_like(input_tensor, dtype=None, name=None, optimize=True)"
   ]
  },
  {
   "cell_type": "code",
   "execution_count": 20,
   "metadata": {},
   "outputs": [
    {
     "name": "stdout",
     "output_type": "stream",
     "text": [
      "[[8 8 8]\n",
      " [8 8 8]]\n"
     ]
    }
   ],
   "source": [
    "# tf.fill(dims, value, name=None)\n",
    "# creates a tensor filled with a scalar value.\n",
    "# Similar to NumPy.full\n",
    "with tf.Session() as sess:\n",
    "    print(sess.run(tf.fill([2, 3], 8)))"
   ]
  },
  {
   "cell_type": "code",
   "execution_count": 21,
   "metadata": {},
   "outputs": [
    {
     "name": "stdout",
     "output_type": "stream",
     "text": [
      "[10. 11. 12. 13.]\n"
     ]
    }
   ],
   "source": [
    "# tf.lin_space(start, stop, num, name=None)\n",
    "with tf.Session() as sess:\n",
    "    print(sess.run(tf.lin_space(10.0, 13.0, 4)))"
   ]
  },
  {
   "cell_type": "code",
   "execution_count": 22,
   "metadata": {},
   "outputs": [
    {
     "name": "stdout",
     "output_type": "stream",
     "text": [
      "[ 3  6  9 12 15]\n",
      "[0 1 2 3 4]\n"
     ]
    }
   ],
   "source": [
    "# tf.range(start, limit=None, delta=1, dtype=None, name='range')\n",
    "# NOT THE SAME AS NUMPY SEQUENCES, Tensor objects are not iterable\n",
    "# for _ in tf.range(4): # TypeError\n",
    "with tf.Session() as sess:\n",
    "    print(sess.run(tf.range(3, 18, 3)))\n",
    "    print(sess.run(tf.range(5)))"
   ]
  },
  {
   "cell_type": "code",
   "execution_count": 23,
   "metadata": {},
   "outputs": [],
   "source": [
    "# Randomly Generated Constants\n",
    "# tf.random_normal\n",
    "# tf.truncated_normal\n",
    "# tf.random_uniform\n",
    "# tf.random_shuffle\n",
    "# tf.random_crop\n",
    "# tf.multinomial\n",
    "# tf.random_gamma\n",
    "# tf.set_random_seed(seed)"
   ]
  },
  {
   "cell_type": "markdown",
   "metadata": {},
   "source": [
    "## Operations"
   ]
  },
  {
   "cell_type": "markdown",
   "metadata": {},
   "source": [
    "<img src=\"picture/Operations.jpg\" width=\"90%\">"
   ]
  },
  {
   "cell_type": "markdown",
   "metadata": {},
   "source": [
    "## Arithmetic Ops"
   ]
  },
  {
   "cell_type": "markdown",
   "metadata": {},
   "source": [
    "<img src=\"picture/arithmetic.jpg\" width=\"25%\">"
   ]
  },
  {
   "cell_type": "markdown",
   "metadata": {},
   "source": [
    "## Wizard of Div"
   ]
  },
  {
   "cell_type": "code",
   "execution_count": 24,
   "metadata": {},
   "outputs": [
    {
     "name": "stdout",
     "output_type": "stream",
     "text": [
      "[[0 0]\n",
      " [1 1]]\n",
      "[[0.  0.5]\n",
      " [1.  1.5]]\n",
      "[[0.  0.5]\n",
      " [1.  1.5]]\n",
      "[[0 0]\n",
      " [1 1]]\n",
      "[[0 0]\n",
      " [1 1]]\n",
      "[[0 0]\n",
      " [1 1]]\n"
     ]
    }
   ],
   "source": [
    "a = tf.constant([2, 2], name='a')\n",
    "b = tf.constant([[0, 1], [2, 3]], name='b')\n",
    "with tf.Session() as sess:\n",
    "    print(sess.run(tf.div(b, a)))\n",
    "    print(sess.run(tf.divide(b, a)))\n",
    "    print(sess.run(tf.truediv(b, a)))\n",
    "    print(sess.run(tf.floordiv(b, a)))\n",
    "    #print(sess.run(tf.realdiv(b, a))) # Error: only works for real values\n",
    "    print(sess.run(tf.truncatediv(b, a)))\n",
    "    print(sess.run(tf.floor_div(b, a)))"
   ]
  },
  {
   "cell_type": "markdown",
   "metadata": {},
   "source": [
    "## TensorFlow Data Types"
   ]
  },
  {
   "cell_type": "code",
   "execution_count": 25,
   "metadata": {},
   "outputs": [
    {
     "name": "stdout",
     "output_type": "stream",
     "text": [
      "0\n",
      "1\n",
      "[b'' b'' b'']\n",
      "[[False False False]\n",
      " [False False False]\n",
      " [False False False]]\n",
      "[[ True  True  True]\n",
      " [ True  True  True]\n",
      " [ True  True  True]]\n"
     ]
    }
   ],
   "source": [
    "# TensorFlow takes Python natives types: boolean, numeric (int, float), strings\n",
    "\n",
    "t_0 = 19  # scalars are treated like 0-d tensors\n",
    "with tf.Session() as sess:\n",
    "    print(sess.run(tf.zeros_like(t_0)))\n",
    "    print(sess.run(tf.ones_like(t_0)))\n",
    "\n",
    "t_1 = [b\"apple\", b\"peach\", b\"grape\"] # 1-d arrays are treated like 1-d tensors\n",
    "with tf.Session() as sess:\n",
    "    print(sess.run(tf.zeros_like(t_1)))\n",
    "    #print(sess.run(tf.ones_like(t_1))) #TypeError: Expected string, got 1 of type 'int' instead.\n",
    "\n",
    "t_2 = [[True, False, False],[False, False, True],[False, True, False]]\n",
    "with tf.Session() as sess:\n",
    "    print(sess.run(tf.zeros_like(t_2)))\n",
    "    print(sess.run(tf.ones_like(t_2)))"
   ]
  },
  {
   "cell_type": "markdown",
   "metadata": {},
   "source": [
    "<img src=\"picture/datatype.jpg\" width=\"30%\">"
   ]
  },
  {
   "cell_type": "markdown",
   "metadata": {},
   "source": [
    "## TF vs NP Data Types"
   ]
  },
  {
   "cell_type": "code",
   "execution_count": 26,
   "metadata": {},
   "outputs": [
    {
     "data": {
      "text/plain": [
       "True"
      ]
     },
     "execution_count": 26,
     "metadata": {},
     "output_type": "execute_result"
    }
   ],
   "source": [
    "# TensorFlow integrates seamlessly with NumPy\n",
    "tf.int32 == np.int32"
   ]
  },
  {
   "cell_type": "code",
   "execution_count": 27,
   "metadata": {},
   "outputs": [
    {
     "name": "stdout",
     "output_type": "stream",
     "text": [
      "[[1. 1.]\n",
      " [1. 1.]]\n"
     ]
    }
   ],
   "source": [
    "# Can pass numpy types to TensorFlow ops\n",
    "with tf.Session() as sess:\n",
    "    print(sess.run(tf.ones([2, 2], np.float32)))"
   ]
  },
  {
   "cell_type": "code",
   "execution_count": 28,
   "metadata": {},
   "outputs": [
    {
     "name": "stdout",
     "output_type": "stream",
     "text": [
      "<class 'tensorflow.python.framework.ops.Tensor'>\n",
      "<class 'numpy.ndarray'>\n"
     ]
    }
   ],
   "source": [
    "# For tf.Session.run(fetches): if the requested fetch is a Tensor, \n",
    "# output will be a NumPy ndarray.\n",
    "sess = tf.Session()\n",
    "a = tf.zeros([2, 3], np.int32)\n",
    "print(type(a))\n",
    "a_out = sess.run(a) # Avoid doing using a = sess.run(a)\n",
    "print(type(a_out))"
   ]
  },
  {
   "cell_type": "markdown",
   "metadata": {},
   "source": [
    "**What’s wrong with constants?**  \n",
    "1. Constants are stored in the graph definition  \n",
    "2. This makes loading graphs expensive when constants are big  \n",
    "\n",
    "**advice:**\n",
    "1. Only use constants for primitive types.  \n",
    "2. Use variables or readers for more data that requires more memory"
   ]
  },
  {
   "cell_type": "code",
   "execution_count": 29,
   "metadata": {
    "scrolled": false
   },
   "outputs": [],
   "source": [
    "import tensorflow as tf\n",
    "my_const = tf.constant([1.0, 2.0], name=\"my_const\")\n",
    "#with tf.Session() as sess:\n",
    "    #print(sess.graph.as_graph_def())"
   ]
  },
  {
   "cell_type": "markdown",
   "metadata": {},
   "source": [
    "## Variables"
   ]
  },
  {
   "cell_type": "code",
   "execution_count": 30,
   "metadata": {},
   "outputs": [],
   "source": [
    "# create variables with tf.Variable\n",
    "s = tf.Variable(2, name=\"scalar\")\n",
    "m = tf.Variable([[0, 1], [2, 3]], name=\"matrix\")\n",
    "W = tf.Variable(tf.zeros([784,10]))\n",
    "\n",
    "# create variables with tf.get_variable\n",
    "s = tf.get_variable(\"scalar\", initializer=tf.constant(2))\n",
    "m = tf.get_variable(\"matrix\", initializer=tf.constant([[0, 1], [2, 3]]))\n",
    "W = tf.get_variable(\"big_matrix\", shape=(784, 10), initializer=tf.zeros_initializer())"
   ]
  },
  {
   "cell_type": "markdown",
   "metadata": {},
   "source": [
    "**tf.Variable holds several ops:**\n",
    "```python\n",
    "x = tf.Variable(...)\n",
    "x.initializer        # init op\n",
    "x.value()            # read op\n",
    "x.assign(...)        # write op\n",
    "x.assign_add(...)    # and more\n",
    "```"
   ]
  },
  {
   "cell_type": "markdown",
   "metadata": {},
   "source": [
    "## initialize your variables"
   ]
  },
  {
   "cell_type": "code",
   "execution_count": 31,
   "metadata": {},
   "outputs": [],
   "source": [
    "# The easiest way is initializing all variables at once:\n",
    "with tf.Session() as sess:\n",
    "    sess.run(tf.global_variables_initializer())\n",
    "    \n",
    "# Initialize only a subset of variables:\n",
    "with tf.Session() as sess:\n",
    "    sess.run(tf.variables_initializer([s, m]))\n",
    "    \n",
    "# Initialize a single variable\n",
    "W = tf.Variable(tf.zeros([784,10]))\n",
    "with tf.Session() as sess:\n",
    "    sess.run(W.initializer)"
   ]
  },
  {
   "cell_type": "markdown",
   "metadata": {},
   "source": [
    "## Eval() a variable"
   ]
  },
  {
   "cell_type": "code",
   "execution_count": 32,
   "metadata": {},
   "outputs": [
    {
     "name": "stdout",
     "output_type": "stream",
     "text": [
      "[[ 1.2422355  -0.3917434  -0.11916821 ... -0.87804025 -0.16191287\n",
      "  -0.55864793]\n",
      " [-0.98482686 -0.965423   -0.43619162 ... -0.17281497  0.68641764\n",
      "  -0.4503836 ]\n",
      " [ 0.253377   -0.2546041  -0.6354902  ...  0.757269   -0.49024028\n",
      "  -0.8581709 ]\n",
      " ...\n",
      " [ 0.85653347 -1.3462121   0.11082723 ...  1.155268   -1.1771042\n",
      "   1.6396282 ]\n",
      " [ 0.5885185  -1.3611814   0.8452932  ... -0.86036456 -1.079236\n",
      "  -0.39383748]\n",
      " [ 0.44654584  1.2938877   1.0985478  ...  0.28670418  0.9230725\n",
      "  -0.8499177 ]]\n"
     ]
    }
   ],
   "source": [
    "# W is a random 700 x 100 variable object\n",
    "W = tf.Variable(tf.truncated_normal([700, 10]))\n",
    "with tf.Session() as sess:\n",
    "    sess.run(W.initializer)    # Similar to print(sess.run(W))\n",
    "    print(W.eval())"
   ]
  },
  {
   "cell_type": "code",
   "execution_count": 33,
   "metadata": {},
   "outputs": [
    {
     "name": "stdout",
     "output_type": "stream",
     "text": [
      "10\n",
      "100\n"
     ]
    }
   ],
   "source": [
    "W = tf.Variable(10)\n",
    "W.assign(100)\n",
    "with tf.Session() as sess:\n",
    "    sess.run(W.initializer)\n",
    "    print(W.eval())\n",
    "    \n",
    "# W.assign(100) creates an assign op.That op needs to be executed in a session to take effect.\n",
    "W = tf.Variable(10)\n",
    "assign_op = W.assign(100)\n",
    "with tf.Session() as sess:\n",
    "    sess.run(W.initializer)\n",
    "    sess.run(assign_op)\n",
    "    print(W.eval())"
   ]
  },
  {
   "cell_type": "code",
   "execution_count": 34,
   "metadata": {},
   "outputs": [
    {
     "name": "stdout",
     "output_type": "stream",
     "text": [
      "4\n",
      "8\n",
      "16\n"
     ]
    }
   ],
   "source": [
    "# create a variable whose original value is 2\n",
    "my_var = tf.Variable(2, name=\"my_var\")\n",
    "# assign a * 2 to a and call that op a_times_two\n",
    "# It assign 2 * my_var to my_var every time my_var_times_two op is executed.\n",
    "my_var_times_two = my_var.assign(2 * my_var)\n",
    "with tf.Session() as sess:\n",
    "    sess.run(my_var.initializer)\n",
    "    print(sess.run(my_var_times_two))\n",
    "    print(sess.run(my_var_times_two))\n",
    "    print(sess.run(my_var_times_two))"
   ]
  },
  {
   "cell_type": "markdown",
   "metadata": {},
   "source": [
    "## assign_add() and assign_sub()"
   ]
  },
  {
   "cell_type": "code",
   "execution_count": 35,
   "metadata": {
    "scrolled": true
   },
   "outputs": [
    {
     "name": "stdout",
     "output_type": "stream",
     "text": [
      "20\n",
      "18\n"
     ]
    }
   ],
   "source": [
    "my_var = tf.Variable(10)\n",
    "with tf.Session() as sess:\n",
    "    sess.run(my_var.initializer)\n",
    "    # increment by 10\n",
    "    print(sess.run(my_var.assign_add(10)))\n",
    "    # decrement by 2\n",
    "    print(sess.run(my_var.assign_sub(2)))"
   ]
  },
  {
   "cell_type": "markdown",
   "metadata": {},
   "source": [
    "## Each session maintains its own copy of variables"
   ]
  },
  {
   "cell_type": "code",
   "execution_count": 36,
   "metadata": {},
   "outputs": [
    {
     "name": "stdout",
     "output_type": "stream",
     "text": [
      "20\n",
      "8\n",
      "120\n",
      "-42\n"
     ]
    }
   ],
   "source": [
    "W = tf.Variable(10)\n",
    "\n",
    "sess1 = tf.Session()\n",
    "sess2 = tf.Session()\n",
    "\n",
    "sess1.run(W.initializer)\n",
    "sess2.run(W.initializer)\n",
    "\n",
    "print(sess1.run(W.assign_add(10)))\n",
    "print(sess2.run(W.assign_sub(2)))\n",
    "\n",
    "print(sess1.run(W.assign_add(100)))\n",
    "print(sess2.run(W.assign_sub(50)))\n",
    "\n",
    "sess1.close()\n",
    "sess2.close()"
   ]
  },
  {
   "cell_type": "markdown",
   "metadata": {},
   "source": [
    "**A TF program often has 2 phases:**\n",
    "1. Assemble a graph\n",
    "2. Use a session to execute operations in the graph.  \n",
    "\n",
    "⇒ Assemble the graph first without knowing the values needed for computation  \n",
    "\n",
    "**Analogy:**  \n",
    "Define the function $f(x, y) = 2*x + y$ without knowing value of $x$ or $y$.  \n",
    "$x$, $y$ are placeholders for the actual values."
   ]
  },
  {
   "cell_type": "markdown",
   "metadata": {},
   "source": [
    "## Placeholders\n",
    "```python\n",
    "tf.placeholder(dtype, shape=None, name=None)\n",
    "```  \n",
    "\n",
    "**注意：**\n",
    "1. shape=None means that tensor of any shape will be accepted as value for placeholder.\n",
    "2. shape=None is easy to construct graphs, but nightmarish for debugging\n",
    "3. shape=None also breaks all following shape inference, which makes many ops not work because they expect certain rank."
   ]
  },
  {
   "cell_type": "code",
   "execution_count": 37,
   "metadata": {},
   "outputs": [
    {
     "name": "stdout",
     "output_type": "stream",
     "text": [
      "[6. 7. 8.]\n"
     ]
    }
   ],
   "source": [
    "# tf.placeholder(dtype, shape=None, name=None)\n",
    "\n",
    "# create a placeholder of type float 32-bit, shape is a vector of 3 elements\n",
    "a = tf.placeholder(tf.float32, shape=[3])\n",
    "\n",
    "# create a constant of type float 32-bit, shape is a vector of 3 elements\n",
    "b = tf.constant([5, 5, 5], tf.float32)\n",
    "\n",
    "# use the placeholder as you would a constant or a variable\n",
    "c = a + b # Short for tf.add(a, b)\n",
    "\n",
    "with tf.Session() as sess:\n",
    "    print(sess.run(c, {a: [1, 2, 3]}))"
   ]
  },
  {
   "cell_type": "markdown",
   "metadata": {},
   "source": [
    "You can feed_dict any feedable tensor. Placeholder is just a way to indicate that something must be fed  \n",
    "```python\n",
    "tf.Graph.is_feedable(tensor)\n",
    "```  \n",
    "True if and only if tensor is feedable."
   ]
  },
  {
   "cell_type": "markdown",
   "metadata": {},
   "source": [
    "<img src=\"picture/placeholder.jpg\" width=\"30%\">"
   ]
  },
  {
   "cell_type": "code",
   "execution_count": 38,
   "metadata": {},
   "outputs": [
    {
     "name": "stdout",
     "output_type": "stream",
     "text": [
      "45\n"
     ]
    }
   ],
   "source": [
    "# create operations, tensors, etc (using the default graph)\n",
    "a = tf.add(2, 5)\n",
    "b = tf.multiply(a, 3)\n",
    "with tf.Session() as sess:\n",
    "# compute the value of b given a is 15\n",
    "    print(sess.run(b, feed_dict={a: 15}))"
   ]
  },
  {
   "cell_type": "markdown",
   "metadata": {},
   "source": [
    "**Normal loading**"
   ]
  },
  {
   "cell_type": "code",
   "execution_count": 39,
   "metadata": {},
   "outputs": [],
   "source": [
    "tf.reset_default_graph()\n",
    "x = tf.Variable(10, name='x')\n",
    "y = tf.Variable(20, name='y')\n",
    "z = tf.add(x, y) # create the node before executing the graph\n",
    "writer = tf.summary.FileWriter('./graphs/normal_loading', tf.get_default_graph())  # event文件存放在normal_loading文件夹中\n",
    "with tf.Session() as sess:\n",
    "    sess.run(tf.global_variables_initializer())\n",
    "    for _ in range(10):\n",
    "        sess.run(z)\n",
    "writer.close()"
   ]
  },
  {
   "cell_type": "markdown",
   "metadata": {},
   "source": [
    "**Lazy loading**  \n",
    "```Defer creating/initializing an object until it is needed```"
   ]
  },
  {
   "cell_type": "code",
   "execution_count": 40,
   "metadata": {},
   "outputs": [],
   "source": [
    "tf.reset_default_graph()\n",
    "x = tf.Variable(10, name='x')\n",
    "y = tf.Variable(20, name='y')\n",
    "#writer = tf.summary.FileWriter('./graphs/lazy_loading', tf.get_default_graph())\n",
    "with tf.Session() as sess:\n",
    "    sess.run(tf.global_variables_initializer())\n",
    "    for _ in range(10):\n",
    "        sess.run(tf.add(x, y)) # someone decides to be clever to save one line of code\n",
    "    writer = tf.summary.FileWriter('./graphs/lazy_loading', sess.graph)\n",
    "#writer.close()"
   ]
  },
  {
   "cell_type": "code",
   "execution_count": 41,
   "metadata": {},
   "outputs": [],
   "source": [
    "# 查看graph的详细结构和属性\n",
    "# tf.get_default_graph().as_graph_def()"
   ]
  },
  {
   "cell_type": "markdown",
   "metadata": {},
   "source": [
    "通过tensorboard查看graph，可以看到：Normal loading情况下，节点\"Add\"在graph上只定义了1次；而Lazy loading情况下，节点\"Add\"在graph上只定义了10次  \n",
    "\n",
    "偷懒模式，节省了代码行数，但是增加了计算次数，使网络变得臃肿缓慢  \n",
    "\n",
    "**Normal loading**\n",
    "```python\n",
    "node {\n",
    "  name: \"Add\"\n",
    "  op: \"Add\"\n",
    "  input: \"x/read\"\n",
    "  input: \"y/read\"\n",
    "  attr {\n",
    "    key: \"T\"\n",
    "    value {\n",
    "      type: DT_INT32\n",
    "    }\n",
    "  }\n",
    "}\n",
    "```\n",
    "\n",
    "**Lazy loading**\n",
    "```python\n",
    "node {\n",
    "  name: \"Add_1\"\n",
    "  op: \"Add\"\n",
    "  ...\n",
    "}\n",
    "...\n",
    "node {\n",
    "  name: \"Add_10\"\n",
    "  op: \"Add\"\n",
    "  ...\n",
    "}\n",
    "```"
   ]
  },
  {
   "cell_type": "markdown",
   "metadata": {},
   "source": [
    "---"
   ]
  },
  {
   "cell_type": "markdown",
   "metadata": {},
   "source": [
    "**插入图片的两种方式，第一种调整不了显示尺寸**\n",
    "```\n",
    "![title](picture/add.jpg)\n",
    "\n",
    "<img src=\"picture/add.jpg\" width=\"20%\">\n",
    "```"
   ]
  }
 ],
 "metadata": {
  "kernelspec": {
   "display_name": "Python 3",
   "language": "python",
   "name": "python3"
  },
  "language_info": {
   "codemirror_mode": {
    "name": "ipython",
    "version": 3
   },
   "file_extension": ".py",
   "mimetype": "text/x-python",
   "name": "python",
   "nbconvert_exporter": "python",
   "pygments_lexer": "ipython3",
   "version": "3.6.5"
  }
 },
 "nbformat": 4,
 "nbformat_minor": 2
}
